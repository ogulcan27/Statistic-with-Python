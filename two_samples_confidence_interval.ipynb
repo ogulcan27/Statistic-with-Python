{
 "cells": [
  {
   "cell_type": "markdown",
   "id": "4e8f730b",
   "metadata": {},
   "source": [
    "# İki Örneklem Güven Aralıkları Örnekleri"
   ]
  },
  {
   "cell_type": "markdown",
   "id": "75bd4790",
   "metadata": {},
   "source": [
    "+ İki bağımsız kitlenin ortalamaları arasındaki fark için güven aralığı\n",
    "\n",
    "\n",
    "+ İki bağımsız kitlenin oranları arasındaki fark için güven aralığı \n",
    "\n",
    "\n",
    "+ İki bağımlı kitlenin ortalamaları arasındaki fark için güven aralığı \n",
    "\n",
    "İlk önce yukarıdaki başlıkların formüllerini daha sonra Z,T ve Ki-Kare tablolarından değer bulmayı göreceğiz. Daha sonra formülleri fonksiyonlaştıracağız. Ardından da örneklere geçeceğiz. Burada iki bağımsız kitlenin varyansları arasındaki fark için güven aralığını hesaplamıyoruz çünkü iki kitlenin sapmaları arasındaki fark pek bir anlam ifade etmiyor. Bunların asıl olarak oranlanması bize bir anlam ifade ediyor. Bunu hipotez testlerinde göreceğiz."
   ]
  },
  {
   "attachments": {
    "Ekran%20G%C3%B6r%C3%BCnt%C3%BCs%C3%BC%20%28286%29.png": {
     "image/png": "[encoded data removed]"
    }
   },
   "cell_type": "markdown",
   "id": "64db9ad3",
   "metadata": {},
   "source": [
    "## Bağımsız Kitleler İçin Güven Aralığı Formülleri\n",
    "\n",
    "**İki Bağımsız Kitlenin Ortalamaları Arasındaki Fark İçin Güven Aralığı:**\n",
    "\n",
    "+ Kitle varyansı biliniyor: P(($\\bar{x_1}$ - $\\bar{x_2}$) - $z_{\\alpha/2}$ . $\\sqrt{\\frac{\\sigma_1^2}{n_1} +\\frac{\\sigma_2^2}{n_2}}$ $\\leq$ $\\mu_1 - \\mu_2$ $\\leq$ ($\\bar{x_1}$ - $\\bar{x_2}$) + $z_{\\alpha/2}$ . $\\sqrt{\\frac{\\sigma_1^2}{n_1} +\\frac{\\sigma_2^2}{n_2}}$)\n",
    "\n",
    "\n",
    "\n",
    "+ Kitle varyansı bilinmiyor + $n$ $\\geq$ 30: P(($\\bar{x_1}$ - $\\bar{x_2}$) - $z_{\\alpha/2}$ . $\\sqrt{\\frac{s_1^2}{n_1} +\\frac{s_2^2}{n_2}}$ $\\leq$ $\\mu_1 - \\mu_2$ $\\leq$ ($\\bar{x_1}$ - $\\bar{x_2}$) + $z_{\\alpha/2}$ . $\\sqrt{\\frac{s_1^2}{n_1} +\\frac{s_2^2}{n_2}}$)\n",
    "\n",
    "\n",
    "\n",
    "+ Kitle varyansı bilinmiyor + $n$ $\\leq$ 30 + $\\sigma_1^2 = \\sigma_2^2$: P(($\\bar{x_1}$ - $\\bar{x_2}$) - $t_{\\alpha/2, n_1+n_2-2}$ . $S_p.\\sqrt{\\frac{1}{n_1} +\\frac{1}{n_2}}$ $\\leq$ ($\\bar{x_1}$ - $\\bar{x_2}$) + $t_{\\alpha/2, n_1+n_2-2}$ . $S_p.\\sqrt{\\frac{1}{n_1} +\\frac{1}{n_2}}$)\n",
    "\n",
    "  $S_p$ = Birleştirilmiş varyanstır. Kitle varyanslarının ne olduğu bilinmese de eşit oldukları bilindiğinden, bu varyansların tahmin edicileri olan $s_1^2$ ve $s_2^2$'yi kullanarak birleştirilmiş varyansı elde eder ve kullanırız. $S_p^2$ = $\\frac{(n_1-1).S_1^2 + (n_2-1).S_2^2}{n_1 + n_2 - 2}$\n",
    "\n",
    "\n",
    "\n",
    "+ Kitle varyansı bilinmiyor + $n$ $\\leq$ 30 + $\\sigma_1^2$ $\\neq$ $\\sigma_2^2$: P(($\\bar{x_1}$ - $\\bar{x_2}$) - $t_{\\alpha/2,v}$ . $\\sqrt{\\frac{s_1^2}{n_1} +\\frac{s_2^2}{n_2}}$ $\\leq$ $\\mu_1 - \\mu_2$ $\\leq$ ($\\bar{x_1}$ - $\\bar{x_2}$) + $t_{\\alpha/2,v}$ . $\\sqrt{\\frac{s_1^2}{n_1} +\\frac{s_2^2}{n_2}}$)\n",
    "\n",
    "   $v$  = Welch-Satterwhite denklemi ile elde edilmiş serbestlik derecesidir. $\\nu_{\\text{Welch}}$ = $\\frac{(\\frac{s_1^2}{n_1} + \\frac{s_2^2}{n_2})^2} {\\frac{\\left(\\frac{s_1^2}{n_1}\\right)^2}{n_1 - 1} + \\frac{\\left(\\frac{s_2^2}{n_2}\\right)^2}{n_2 - 2}\n",
    "}$\n",
    "\n",
    "\n",
    "\n",
    "**NOT:** $\\sigma_1^2 = \\sigma_2^2$ ve $\\sigma_1^2$ $\\neq$ $\\sigma_2^2$ durumları birer varsayımdır. Aslında bu durumlar F test istatistiği kullanılarak yapılan bir hipotez testinin sonucunda anlaşılır. Ancak biz sorularda bu durumların sağlandığını varsayarak hareket edeceğiz.\n",
    "\n",
    "\n",
    "\n",
    "\n",
    "\n",
    "\n",
    "**İki Bağımsız Kitlenin Oranları Arasındaki Fark İçin Güven Aralığı:**\n",
    "\n",
    "+ Oranlar arası fark: P(($\\hat{p_1}$ - $\\hat{p_2}$) - $z_{\\alpha/2}$ . $\\sqrt{\\frac{\\hat{p_1}.(1-\\hat{p_1})}{n_1} + \\frac{\\hat{p_2}.(1-\\hat{p_2})}{n_2}}$ $\\leq$ $p_1 - p_2$ $\\leq$ ($\\hat{p_1}$ - $\\hat{p_2}$) + $z_{\\alpha/2}$ . $\\sqrt{\\frac{\\hat{p_1}.(1-\\hat{p_1})}{n_1} + \\frac{\\hat{p_2}.(1-\\hat{p_2})}{n_2}}$)\n",
    "\n",
    "\n",
    "\n",
    "\n",
    "\n",
    "## Bağımlı Kitleler İçin Güven Aralığı Formülleri\n",
    "\n",
    "![Ekran%20G%C3%B6r%C3%BCnt%C3%BCs%C3%BC%20%28286%29.png](attachment:Ekran%20G%C3%B6r%C3%BCnt%C3%BCs%C3%BC%20%28286%29.png)\n",
    "\n",
    "+ Bağımlı Kitle Güven Aralığı: P($\\bar{D}$ - $t_{\\alpha/2, n-1}$ . $\\frac{S_D}{\\sqrt{n}}$ $\\leq$ $\\mu_D$ $\\leq$ $\\bar{D}$ + $t_{\\alpha/2, n-1}$ . $\\frac{S_D}{\\sqrt{n}}$)\n",
    "\n",
    "    $\\bar{D}$ = İlk ölçüm - İkinci ölçüm'lerin ortalamasını temsil eder.\n",
    "    \n",
    "    $S_D$ = Standart sapmayı temsil eder. Bu sapma, ilk ve ikinci ölçüm arası farklardan $\\bar{D}$'ın çıkarırılıp $\\sqrt{n-1}$'e bölünmesiyle elde edilir."
   ]
  },
  {
   "cell_type": "markdown",
   "id": "88ad869b",
   "metadata": {},
   "source": [
    "## Z, T ve Ki-Kare Tablolarından Tablo Değeri Hesabı"
   ]
  },
  {
   "cell_type": "markdown",
   "id": "d23fa2be",
   "metadata": {},
   "source": [
    "**NOT:**\n",
    "\n",
    "+ Hesaplamaları göstermeden önce şu bilgiyi vermekte fayda var: Eğer ppf fonksiyonundaki 'q' parametresine gireceğimiz değeri '1-0.05' şeklinde yazarsak dağılımın sağ ucundaki pozitif değeri döndürür. Direkt olarak '0.05' şeklinde yazarsak dağılımın sol ucundaki negatif değeri döndürür."
   ]
  },
  {
   "cell_type": "markdown",
   "id": "6f2aba53",
   "metadata": {},
   "source": [
    "**Z Tablosundan Tablo Değeri Bulma ($z_{\\alpha/2}$):**\n",
    "\n",
    "+ scipy.stats.norm = https://docs.scipy.org/doc/scipy/reference/generated/scipy.stats.norm.html"
   ]
  },
  {
   "cell_type": "code",
   "execution_count": 1,
   "id": "ebb9dbb4",
   "metadata": {},
   "outputs": [
    {
     "name": "stdout",
     "output_type": "stream",
     "text": [
      "%99 güven düzeyinde z skoru (tablo değeri) : 2.5758293035489004\n",
      "%95 güven düzeyinde z skoru (tablo değeri) : 1.959963984540054\n",
      "%90 güven düzeyinde z skoru (tablo değeri) : 1.6448536269514722\n"
     ]
    }
   ],
   "source": [
    "import scipy.stats\n",
    "\n",
    "#1-a = 0.99, a = 0.01 ve a/2 = 0.005 iken Z0.005 tablo değerini bulacağız.\n",
    "z_score = scipy.stats.norm.ppf(q = 1-0.005, loc = 0, scale = 1)\n",
    "print(\"%99 güven düzeyinde z skoru (tablo değeri) :\", z_score)\n",
    "\n",
    "#1-a = 0.95, a = 0.05 ve a/2 = 0.025 iken Z0.025 tablo değerini bulacağız\n",
    "z_score_1 = scipy.stats.norm.ppf(q = 1 - 0.025, loc = 0, scale = 1)\n",
    "print(\"%95 güven düzeyinde z skoru (tablo değeri) :\", z_score_1)\n",
    "\n",
    "#1-a = 0.90, a = 0.10 ve a/2 = 0.05 iken Z0.05 tablo değerini bulacağız\n",
    "z_score_2 = scipy.stats.norm.ppf(q = 1-0.05, loc = 0, scale = 1)\n",
    "print(\"%90 güven düzeyinde z skoru (tablo değeri) :\", z_score_2)"
   ]
  },
  {
   "cell_type": "markdown",
   "id": "48ede2ba",
   "metadata": {},
   "source": [
    "**T Tablosundan Tablo Değeri Bulma ($t_{\\frac{\\alpha}{2}, n-1}$)**\n",
    "\n",
    "+ scipy.stats.t = https://docs.scipy.org/doc/scipy/reference/generated/scipy.stats.t.html#scipy.stats.t"
   ]
  },
  {
   "cell_type": "code",
   "execution_count": 2,
   "id": "28cb1bca",
   "metadata": {},
   "outputs": [
    {
     "name": "stdout",
     "output_type": "stream",
     "text": [
      "%99 güven düzeyinde t skoru (tablo değeri) : 3.169272667175838\n",
      "%95 güven düzeyinde t skoru (tablo değeri) : 2.2281388519649385\n",
      "%90 güven düzeyinde t skoru (tablo değeri) : 1.8124611228107335\n"
     ]
    }
   ],
   "source": [
    "import scipy.stats\n",
    "\n",
    "#1-a = 0.99, a = 0.01, a/2 = 0.005 ve df = 10 iken \n",
    "#T0.005,10 tablo değerini bulacağız.\n",
    "t_score = scipy.stats.t.ppf(q = 1-0.005, df = 10, loc = 0, scale = 1)\n",
    "print(\"%99 güven düzeyinde t skoru (tablo değeri) :\", t_score)\n",
    "\n",
    "#1-a = 0.95, a = 0.05, a/2 = 0.025 ve df = 10 iken \n",
    "#T0.025,10 tablo değerini bulacağız.\n",
    "t_score_1 = scipy.stats.t.ppf(q = 1-0.025, df = 10, loc = 0, scale = 1)\n",
    "print(\"%95 güven düzeyinde t skoru (tablo değeri) :\", t_score_1)\n",
    "\n",
    "#1-a = 0.90, a = 0.10, a/2 = 0.05 ve df = 10 iken \n",
    "#T0.05,10 tablo değerini bulacağız.\n",
    "t_score_2 = scipy.stats.t.ppf(q = 1-0.05, df = 10, loc = 0, scale = 1)\n",
    "print(\"%90 güven düzeyinde t skoru (tablo değeri) :\", t_score_2)"
   ]
  },
  {
   "cell_type": "markdown",
   "id": "57ee432e",
   "metadata": {},
   "source": [
    "**Ki-Kare Tablosundan Tablo Değeri Bulma (${\\chi^2_{1-\\frac{\\alpha}{2},n-1}}$ ve ${\\chi^2_{\\frac{\\alpha}{2},n-1}}$)**\n",
    "\n",
    "+ scipy.stats.chi2 = https://docs.scipy.org/doc/scipy/reference/generated/scipy.stats.chi2.html"
   ]
  },
  {
   "cell_type": "code",
   "execution_count": 3,
   "id": "5a5c4681",
   "metadata": {},
   "outputs": [
    {
     "name": "stdout",
     "output_type": "stream",
     "text": [
      "%99 güven düzeyinde chi2 tablo değerleri: 1.7349329049966602 23.589350781257387\n",
      "%95 güven düzeyinde chi2 tablo değerleri: 2.7003894999803584 19.02276779864163\n",
      "%90 güven düzeyinde chi2 tablo değerleri: 3.325112843066815 16.918977604620448\n"
     ]
    }
   ],
   "source": [
    "import scipy.stats\n",
    "\n",
    "#1-a = 99, a = 0.01, a/2 = 0.005 ve df = 9 iken\n",
    "#Ki-Kare 1-a/2, n-1 (Upper) ve Ki-Kare a/2, n-1 (Lower) tablo değerlerini bulacağız\n",
    "chi2_upper = scipy.stats.chi2.ppf(q = 1-0.005, df = 9)\n",
    "chi2_lower = scipy.stats.chi2.ppf(q = 0.005, df = 9)\n",
    "print(\"%99 güven düzeyinde chi2 tablo değerleri:\", chi2_lower, chi2_upper)\n",
    "\n",
    "#1-a = 95, a = 0.05, a/2 = 0.025 ve df = 9 iken\n",
    "#Ki-Kare 1-a/2, n-1 (Upper) ve Ki-Kare a/2, n-1 (Lower) tablo değerlerini bulacağız\n",
    "chi2_upper_1 = scipy.stats.chi2.ppf(q = 1 - 0.025, df = 9)\n",
    "chi2_lower_1 = scipy.stats.chi2.ppf(q = 0.025, df = 9)\n",
    "print(\"%95 güven düzeyinde chi2 tablo değerleri:\", chi2_lower_1, chi2_upper_1)\n",
    "\n",
    "#1-a = 90, a = 0.10, a/2 = 0.05 ve df = 9 iken\n",
    "#Ki-Kare 1-a/2, n-1 (Upper) ve Ki-Kare a/2, n-1 (Lower) tablo değerlerini bulacağız\n",
    "chi2_upper_2 = scipy.stats.chi2.ppf(q = 1-0.05, df = 9)\n",
    "chi2_lower_2 = scipy.stats.chi2.ppf(q = 0.05, df = 9)\n",
    "print(\"%90 güven düzeyinde chi2 tablo değerleri:\", chi2_lower_2, chi2_upper_2)"
   ]
  },
  {
   "cell_type": "markdown",
   "id": "3aae5267",
   "metadata": {},
   "source": [
    "## Güven Aralığı Fonksiyonları"
   ]
  },
  {
   "cell_type": "markdown",
   "id": "ed35efdc",
   "metadata": {},
   "source": [
    "### Kitle Ortalamaları Arasındaki Fark İçin Güven Aralığı"
   ]
  },
  {
   "cell_type": "code",
   "execution_count": 4,
   "id": "d4fe63c6",
   "metadata": {
    "scrolled": true
   },
   "outputs": [
    {
     "name": "stdout",
     "output_type": "stream",
     "text": [
      "Tablo değeri: 1.959963984540054 \n",
      "Güven aralığı: -0.2837473444289295 , -0.17625265557107045\n"
     ]
    }
   ],
   "source": [
    "#Kitle varyansı biliniyor\n",
    "#Kitle varyansı bilinmiyor + n>=30\n",
    "def norm_mean_dif_confint(x1, x2, a, var1, var2, n1, n2):\n",
    "    \"\"\"\n",
    "    Kitle varyansı biliniyor\n",
    "    Kitle varyansı bilinmiyor + n>=30\n",
    "    \n",
    "    x1 = İlk örneklemin ortalaması\n",
    "    x2 = İkinci örneklemin ortalaması\n",
    "    var1 = İlk örneklemin varyansı\n",
    "    var2 = İkinci örneklemin varyansı\n",
    "    n1 = İlk örneklemdeki öğe sayısı\n",
    "    n2 = İkinici örneklemdeki öğe sayısı\n",
    "    a = Yanılma olasılığı\n",
    "    \"\"\"\n",
    "    import scipy.stats\n",
    "    import numpy as np\n",
    "    z_table = scipy.stats.norm.ppf(1-(a/2), loc = 0, scale = 1)\n",
    "    lower_limit = (x1-x2) - (z_table * np.sqrt((var1/n1) + (var2/n2)))\n",
    "    upper_limit = (x1-x2) + (z_table * np.sqrt((var1/n1) + (var2/n2)))\n",
    "    \n",
    "    return print(\"Tablo değeri:\",z_table,\"\\nGüven aralığı:\",lower_limit ,\",\", upper_limit)\n",
    "\n",
    "norm_mean_dif_confint(x1 = 2.38, x2 = 2.61, var1 = 0.12**2, var2 = 0.14**2, a = 0.05, n1 = 40, n2 = 50)"
   ]
  },
  {
   "cell_type": "code",
   "execution_count": 5,
   "id": "f6e1e1ad",
   "metadata": {
    "scrolled": true
   },
   "outputs": [
    {
     "name": "stdout",
     "output_type": "stream",
     "text": [
      "Tablo değeri: 2.10092204024096 \n",
      "Birleştirilmiş varyans: 9.25418824100742 \n",
      "Güven aralığı: -10.694873427689895 , 6.694873427689895\n"
     ]
    }
   ],
   "source": [
    "#Kitle varyansı bilinmiyor ancak eşit + n<30 (Birleştirilmiş varyans hesabı Sp yapılır) \n",
    "def t_mean_dif_confint_1(x1, x2, a, var1, var2, n1, n2):\n",
    "    \"\"\"\n",
    "    Kitle varyansları bilinmiyor ancak eşitler + n<30\n",
    "    \n",
    "    x1 = İlk örneklemin ortalaması\n",
    "    x2 = İkinci örneklemin ortalaması\n",
    "    var1 = İlk örneklemin varyansı\n",
    "    var2 = İkinci örneklemin varyansı\n",
    "    n1 = İlk örneklemdeki öğe sayısı\n",
    "    n2 = İkinici örneklemdeki öğe sayısı\n",
    "    a = Yanılma olasılığı\n",
    "    \"\"\"\n",
    "    import scipy.stats\n",
    "    import numpy as np\n",
    "    t_table = scipy.stats.t.ppf(1-(a/2), df = n1 + n2 - 2, loc = 0, scale = 1)\n",
    "    S_p = np.sqrt( ((n1-1)*var1 + (n2-1)*var2) / (n1 + n2 - 2) )\n",
    "    lower_limit = (x1 - x2) - (t_table * S_p * np.sqrt((1/n1) + (1/n2)))\n",
    "    upper_limit = (x1 - x2) + (t_table * S_p * np.sqrt((1/n1) + (1/n2)))\n",
    "    \n",
    "    return print(\"Tablo değeri:\",t_table, \"\\nBirleştirilmiş varyans:\",S_p ,\"\\nGüven aralığı:\",lower_limit ,\",\", upper_limit)\n",
    "\n",
    "t_mean_dif_confint_1(x1 = 60.5, x2 = 62.5, a = 0.05, var1 = 8.2**2, var2 = 10.2**2, n1 = 10, n2 =10)"
   ]
  },
  {
   "cell_type": "code",
   "execution_count": 6,
   "id": "b09f16b6",
   "metadata": {},
   "outputs": [
    {
     "name": "stdout",
     "output_type": "stream",
     "text": [
      "Tablo değeri: 2.079613844727662 \n",
      "Welch Satterwhite serbestlik derecesi: 21 \n",
      "Güven aralığı: -10.606687355378833 , 6.606687355378833\n"
     ]
    }
   ],
   "source": [
    "#Kitle varyansı bilinmiyor ancak eşit değil + n<30 (Welch satterwhite denklemi ile serbestlik derecesi bulunur)\n",
    "def t_mean_dif_confint_2(x1, x2, var1, var2, n1, n2, a):\n",
    "    \"\"\"\n",
    "    Kitle varyansı bilinmiyor ancak eşit değiller + n<30\n",
    "    \n",
    "    x1 = İlk örneklemin ortalaması\n",
    "    x2 = İkinci örneklemin ortalaması\n",
    "    var1 = İlk örneklemin varyansı\n",
    "    var2 = İkinci örneklemin varyansı\n",
    "    n1 = İlk örneklemdeki öğe sayısı\n",
    "    n2 = İkinici örneklemdeki öğe sayısı\n",
    "    a = Yanılma olasılığı\n",
    "    \"\"\"\n",
    "    import scipy.stats\n",
    "    import numpy as np\n",
    "    import math\n",
    "    v = math.floor( ( (var1/n1) + (var2/n2) )**2 / ( ((var1/n1)**2/n1-1) + ((var2/n2)**2/n2-1) ) )\n",
    "    t_table = scipy.stats.t.ppf(1-(a/2), df = v, loc = 0, scale = 1)\n",
    "    lower_limit = (x1-x2) - (t_table * np.sqrt( (var1/n1) + (var2/n2) ))\n",
    "    upper_limit = (x1-x2) + (t_table * np.sqrt( (var1/n1) + (var2/n2) ))\n",
    "    \n",
    "    return print(\"Tablo değeri:\", t_table, \"\\nWelch Satterwhite serbestlik derecesi:\",v, \"\\nGüven aralığı:\",lower_limit, \",\",\n",
    "                upper_limit)\n",
    "\n",
    "t_mean_dif_confint_2(x1 = 60.5, x2 = 62.5, a = 0.05, var1 = 8.2**2, var2 = 10.2**2, n1 = 10, n2 =10)"
   ]
  },
  {
   "cell_type": "markdown",
   "id": "29f70682",
   "metadata": {},
   "source": [
    "### Kitle Oranları Arasındaki Fark İçin Güven Aralığı"
   ]
  },
  {
   "cell_type": "code",
   "execution_count": 7,
   "id": "d6de2564",
   "metadata": {},
   "outputs": [
    {
     "name": "stdout",
     "output_type": "stream",
     "text": [
      "Tablo değeri: 1.959963984540054 \n",
      "Güven aralığı: 0.016139080764540098 , 0.38386091923545984\n"
     ]
    }
   ],
   "source": [
    "#Kitle oranları arasındaki fark için güven aralığı\n",
    "def norm_proportion_dif_confint(p1_hat, p2_hat, n1, n2, a):\n",
    "    \"\"\"\n",
    "    Kitle oranları arasındaki fark için güven aralığı\n",
    "    \n",
    "    p1_hat = İlk örneklemde istenen olayın oranı\n",
    "    p2_hat = İkinci örneklemde istenen olayın oranı\n",
    "    n1 = İlk örneklemdeki öğe sayısı\n",
    "    n2 = İkinici örneklemdeki öğe sayısı\n",
    "    a = Yanılma olasılığı\n",
    "    \"\"\"\n",
    "    import scipy.stats\n",
    "    import numpy as np\n",
    "    z_table = scipy.stats.norm.ppf(1-(a/2), loc = 0, scale = 1)\n",
    "    lower_limit = (p1_hat - p2_hat) - (z_table * np.sqrt((p1_hat*(1-p1_hat))/n1 + (p2_hat*(1-p2_hat))/n2))\n",
    "    upper_limit = (p1_hat - p2_hat) + (z_table * np.sqrt((p1_hat*(1-p1_hat))/n1 + (p2_hat*(1-p2_hat))/n2))\n",
    "    \n",
    "    return print(\"Tablo değeri:\", z_table, \"\\nGüven aralığı:\",lower_limit, \",\", upper_limit)\n",
    "\n",
    "norm_proportion_dif_confint(p1_hat =0.6, p2_hat =0.4, n1 =50, n2 =60, a =0.05)"
   ]
  },
  {
   "cell_type": "markdown",
   "id": "3fd0fa2f",
   "metadata": {},
   "source": [
    "### Bağımlı İki Kitlenin Ortalamaları Arasındaki Fark İçin Güven Aralığı"
   ]
  },
  {
   "cell_type": "code",
   "execution_count": 8,
   "id": "9df62a56",
   "metadata": {},
   "outputs": [
    {
     "name": "stdout",
     "output_type": "stream",
     "text": [
      "Tablo değeri: 2.4469118487916806 \n",
      "Güven aralığı: -4.291085210600904 , 4.862513782029475\n"
     ]
    }
   ],
   "source": [
    "#Bağımlı iki kitlenin ortalamarı arasındaki fark için güven aralığı\n",
    "def related_pop_mean_dif_confint(lst1, lst2, a):\n",
    "    \"\"\"\n",
    "    Bağımlı iki kitlenin ortalamarı arasındaki fark için güven aralığı\n",
    "    \n",
    "    lst1 = İlk ölçüm\n",
    "    lst2 = İkinci ölçüm\n",
    "    !! = lst1 ve lst2'den elde edilen değerler aynı örneklemlerden elde edilir\n",
    "    a = Yanılma olasılığı\n",
    "    \"\"\"\n",
    "    import scipy.stats\n",
    "    import numpy as np\n",
    "    df1 = np.array(lst1)\n",
    "    df2 = np.array(lst2)\n",
    "    n = len(df1)\n",
    "    t_table = scipy.stats.t.ppf(1-(a/2), df = n-1)\n",
    "    d = df1 - df2\n",
    "    d_mean = np.mean(d)\n",
    "    d_std = np.std(d)\n",
    "    lower_limit = d_mean - (t_table * (d_std/np.sqrt(n)))\n",
    "    upper_limit = d_mean + (t_table * (d_std/np.sqrt(n)))\n",
    "    \n",
    "    return print(\"Tablo değeri:\", t_table, \"\\nGüven aralığı:\",lower_limit, \",\", upper_limit)\n",
    "\n",
    "related_pop_mean_dif_confint(lst1 = [61, 59, 62, 65, 60, 71, 64], lst2 = [58,67,61,56,60,70,68], a = 0.05)"
   ]
  },
  {
   "cell_type": "markdown",
   "id": "c54f0472",
   "metadata": {},
   "source": [
    "## Örnekler"
   ]
  },
  {
   "cell_type": "markdown",
   "id": "d3e6f556",
   "metadata": {},
   "source": [
    "### Örnek 1\n",
    "Üniversiteden yeni mezun bir genç A ve B şirketlerine\n",
    "başvurmak istiyor A şirketinde çalışan 10 kişiye maaşlarını soruyor\n",
    "ve ayda ortalama 1506.7 dolar kazandıklarını öğreniyor B şirketinde ise\n",
    "6 kişiye soruyor ve ortalama 1499.3 dolar maaş aldıklarını öğreniyor\n",
    "H er iki şirkette de daha önceki bilgilerden varyansların 100\n",
    "olduğunu biliniyor İki ortalama arasındaki fark için %95 güven\n",
    "aralığını hesaplayınız"
   ]
  },
  {
   "cell_type": "markdown",
   "id": "b1d4fd4a",
   "metadata": {},
   "source": [
    "### Çözüm \n",
    "İlk örneklemin ortalaması ($\\bar{x_1}$) = 1506.7\n",
    "\n",
    "İkinci örneklemin ortalaması ($\\bar{x_2}$) = 1499.3 \n",
    "\n",
    "İlk örneklemdeki öğe sayısı ($n_1$) = 10\n",
    "\n",
    "İkinci örneklemdeki öğe sayısı ($n_2$) = 6 \n",
    "\n",
    "İlk kitlenin varyansı ($\\sigma_1^2$) = İkinci kitlenin varyansı ($\\sigma_2^2$) = 100\n",
    "\n",
    "Yanılma olasılığı ($a$) = 0.05\n",
    "\n",
    "Kullanılacak formül: \n",
    "\n",
    "P(($\\bar{x_1}$ - $\\bar{x_2}$) - $z_{\\alpha/2}$ . $\\sqrt{\\frac{\\sigma_1^2}{n_1} +\\frac{\\sigma_2^2}{n_2}}$ $\\leq$ $\\mu_1 - \\mu_2$ $\\leq$ ($\\bar{x_1}$ - $\\bar{x_2}$) + $z_{\\alpha/2}$ . $\\sqrt{\\frac{\\sigma_1^2}{n_1} +\\frac{\\sigma_2^2}{n_2}}$)"
   ]
  },
  {
   "cell_type": "code",
   "execution_count": 9,
   "id": "10d8d6b8",
   "metadata": {
    "scrolled": false
   },
   "outputs": [
    {
     "name": "stdout",
     "output_type": "stream",
     "text": [
      "Tablo değeri: 1.959963984540054 \n",
      "Güven aralığı: -2.721210495053189 , 17.52121049505337\n"
     ]
    }
   ],
   "source": [
    "ornek_1 = norm_mean_dif_confint(x1 = 1506.7, x2 = 1499.3, n1 = 10, n2 =6, a = 0.05, var1 = 100, var2 = 100)"
   ]
  },
  {
   "cell_type": "markdown",
   "id": "bd49bf82",
   "metadata": {},
   "source": [
    "### Örnek 2\n",
    "İki bankanın müşteri hizmetleri bölümüne iletilen bir\n",
    "problemi kaç dakikada çözdükleri araştırma konusu olmuştur Bu\n",
    "araştırma için bir ay içerisinde başvuru yapan müşterilerden A\n",
    "bankasından 40 kişi, B bankasından 50 kişi rastgele seçilmiştir\n",
    "Kitle ortalamaları arasındaki farkın %95 güven düzeyinde aralık\n",
    "tahminini bulunuz.\n",
    "\n",
    "**A bankası:**\n",
    "\n",
    "   Ortalama ($\\bar{x_A}$) = 2.38\n",
    "\n",
    "   Standart sapma ($s_A$) = 0.12\n",
    "    \n",
    "   Örneklemdeki öğe sayısı ($n_A$) = 40\n",
    "\n",
    "**B bankası:**\n",
    "\n",
    "   Ortalama ($\\bar{x_B}$) = 2.61\n",
    "\n",
    "   Standart sapma ($s_B$) = 0.14\n",
    "    \n",
    "   Örneklemdeki öğe sayısı ($n_B$) = 50 "
   ]
  },
  {
   "cell_type": "markdown",
   "id": "d7770410",
   "metadata": {},
   "source": [
    "### Çözüm\n",
    "Yanılma olasılığı ($a$) = 0.05\n",
    "\n",
    "Kullanılacak formül: \n",
    "\n",
    "P(($\\bar{x_1}$ - $\\bar{x_2}$) - $z_{\\alpha/2}$ . $\\sqrt{\\frac{s_1^2}{n_1} +\\frac{s_2^2}{n_2}}$ $\\leq$ $\\mu_1 - \\mu_2$ $\\leq$ ($\\bar{x_1}$ - $\\bar{x_2}$) + $z_{\\alpha/2}$ . $\\sqrt{\\frac{s_1^2}{n_1} +\\frac{s_2^2}{n_2}}$)"
   ]
  },
  {
   "cell_type": "code",
   "execution_count": 10,
   "id": "1e8a2133",
   "metadata": {
    "scrolled": false
   },
   "outputs": [
    {
     "name": "stdout",
     "output_type": "stream",
     "text": [
      "Tablo değeri: 1.959963984540054 \n",
      "Güven aralığı: -0.2837473444289295 , -0.17625265557107045\n"
     ]
    }
   ],
   "source": [
    "ornek_2 = norm_mean_dif_confint(x1 = 2.38, x2 = 2.61, var1 = 0.12**2, var2 = 0.14**2, n1 = 40, n2 = 50, a = 0.05)"
   ]
  },
  {
   "cell_type": "markdown",
   "id": "7a7594d7",
   "metadata": {},
   "source": [
    "### Örnek 3\n",
    "SEC 303 dersinin alan öğrencilerin başarılarının SEC 404\n",
    "dersini alan öğrencilerden daha yüksek olduğu iddia ediliyor Bu\n",
    "sebeple bu dersleri alan öğrencilerden bir dönem sonunda 10 ’ar\n",
    "öğrenci rastgele seçilerek final notlarına bakılıyor Not ortalamaları\n",
    "arasındaki fark için %95 güven düzeyindeki aralık tahmini $\\sigma_1^2 = \\sigma_2^2$  olduğunu varsayarak bulunuz\n",
    "\n",
    "**SEC 303:**\n",
    "\n",
    "Ortalama ($\\bar{x_1}$) = 60.5\n",
    "\n",
    "Standart sapma ($s_1$) = 8.2\n",
    "\n",
    "Örneklemdeki öğe sayısı ($n_1$) = 10\n",
    "\n",
    "**SEC 404:**\n",
    "\n",
    "Ortalama ($\\bar{x_2}$) = 62.5\n",
    "\n",
    "Standart sapma ($s_2$) = 10.2\n",
    "\n",
    "Örneklemdeki öğe sayısı ($n_2$) = 10"
   ]
  },
  {
   "cell_type": "markdown",
   "id": "9e4fd5fa",
   "metadata": {},
   "source": [
    "### Çözüm\n",
    "Yanılma olasılığı ($a$) = 0.05\n",
    "\n",
    "Kullanılacak formül: \n",
    "\n",
    "P(($\\bar{x_1}$ - $\\bar{x_2}$) - $t_{\\alpha/2, n_1+n_2-2}$ . $S_p.\\sqrt{\\frac{1}{n_1} +\\frac{1}{n_2}}$ $\\leq$ ($\\bar{x_1}$ - $\\bar{x_2}$) + $t_{\\alpha/2, n_1+n_2-2}$ . $S_p.\\sqrt{\\frac{1}{n_1} +\\frac{1}{n_2}}$)"
   ]
  },
  {
   "cell_type": "code",
   "execution_count": 11,
   "id": "3cb6d505",
   "metadata": {
    "scrolled": false
   },
   "outputs": [
    {
     "name": "stdout",
     "output_type": "stream",
     "text": [
      "Tablo değeri: 2.10092204024096 \n",
      "Birleştirilmiş varyans: 9.25418824100742 \n",
      "Güven aralığı: -10.694873427689895 , 6.694873427689895\n"
     ]
    }
   ],
   "source": [
    "ornek_3 = t_mean_dif_confint_1(x1 = 60.5, x2 = 62.5, a = 0.05, var1 = 8.2**2, var2 = 10.2**2, n1 = 10, n2 =10)"
   ]
  },
  {
   "cell_type": "markdown",
   "id": "f4b18d64",
   "metadata": {},
   "source": [
    "### Örnek 4\n",
    "SEC 303 dersinin alan öğrencilerin başarılarının\n",
    "SEC 404 dersini alan öğrencilerden daha yüksek olduğu iddia\n",
    "ediliyor Bu sebeple bu dersleri alan öğrencilerden bir dönem\n",
    "sonunda 10 ’ar öğrenci rastgele seçilerek final notlarına\n",
    "bakılıyor Not ortalamaları arasındaki fark için %95 güven\n",
    "düzeyindeki aralık tahmini $\\sigma_1^2$ $\\neq$ $\\sigma_2^2$ olduğunu varsayarak\n",
    "bulunuz\n",
    "\n",
    "**SEC 303:**\n",
    "\n",
    "Ortalama ($\\bar{x_1}$) = 60.5\n",
    "\n",
    "Standart sapma ($s_1$) = 8.2\n",
    "\n",
    "Örneklemdeki öğe sayısı ($n_1$) = 10\n",
    "\n",
    "**SEC 404:**\n",
    "\n",
    "Ortalama ($\\bar{x_2}$) = 62.5\n",
    "\n",
    "Standart sapma ($s_2$) = 10.2\n",
    "\n",
    "Örneklemdeki öğe sayısı ($n_2$) = 10"
   ]
  },
  {
   "cell_type": "markdown",
   "id": "976da46c",
   "metadata": {},
   "source": [
    "### Çözüm \n",
    "Yanılma olasılığı ($a$) = 0.05\n",
    "\n",
    "Kullanılacak formül:\n",
    "\n",
    "P(($\\bar{x_1}$ - $\\bar{x_2}$) - $t_{\\alpha/2,v}$ . $\\sqrt{\\frac{s_1^2}{n_1} +\\frac{s_2^2}{n_2}}$ $\\leq$ $\\mu_1 - \\mu_2$ $\\leq$ ($\\bar{x_1}$ - $\\bar{x_2}$) + $t_{\\alpha/2,v}$ . $\\sqrt{\\frac{s_1^2}{n_1} +\\frac{s_2^2}{n_2}}$)"
   ]
  },
  {
   "cell_type": "code",
   "execution_count": 12,
   "id": "8eab08d6",
   "metadata": {
    "scrolled": true
   },
   "outputs": [
    {
     "name": "stdout",
     "output_type": "stream",
     "text": [
      "Tablo değeri: 2.079613844727662 \n",
      "Welch Satterwhite serbestlik derecesi: 21 \n",
      "Güven aralığı: -10.606687355378833 , 6.606687355378833\n"
     ]
    }
   ],
   "source": [
    "ornek_4 = t_mean_dif_confint_2(x1 = 60.5, x2 = 62.5, a = 0.05, var1 = 8.2**2, var2 = 10.2**2, n1 = 10, n2 =10)"
   ]
  },
  {
   "attachments": {
    "Ekran%20G%C3%B6r%C3%BCnt%C3%BCs%C3%BC%20%28287%29.png": {
     "image/png": "[encoded data removed]"
    }
   },
   "cell_type": "markdown",
   "id": "5bcabd42",
   "metadata": {},
   "source": [
    "### Örnek 5\n",
    "Bir ilde bir ay süresince COVID 19 testi yaptıran\n",
    "kişilere sigara içip içmedikleri sorulmuş ve PCR test\n",
    "sonucu verilmiştir COVID pozitif olan kişilerde sigara içen\n",
    "ve içmeyenler arasındaki fark için %95 güven aralığını\n",
    "oluşturunuz ve yorumlayınız\n",
    "\n",
    "![Ekran%20G%C3%B6r%C3%BCnt%C3%BCs%C3%BC%20%28287%29.png](attachment:Ekran%20G%C3%B6r%C3%BCnt%C3%BCs%C3%BC%20%28287%29.png)"
   ]
  },
  {
   "cell_type": "markdown",
   "id": "5bf7a6b6",
   "metadata": {},
   "source": [
    "### Çözüm\n",
    "İlk örneklemdeki oran ($\\hat{p_1}$) = 298 / 3055 = 0.095\n",
    "\n",
    "İkinci örneklemdeki oran ($\\hat{p_2}$) = 81 / 744 = 0.109\n",
    "\n",
    "İlk örneklemdeki öğe sayısı ($n_1$) = 3055\n",
    "\n",
    "İkinci örneklemdeki öğe sayısı ($n_2$) = 744\n",
    "\n",
    "Yanılma olasılığı ($a$) = 0.05\n",
    "\n",
    "Kullanılacak formül:\n",
    "\n",
    "P(($\\hat{p_1}$ - $\\hat{p_2}$) - $z_{\\alpha/2}$ . $\\sqrt{\\frac{\\hat{p_1}.(1-\\hat{p_1})}{n_1} + \\frac{\\hat{p_2}.(1-\\hat{p_2})}{n_2}}$ $\\leq$ $p_1 - p_2$ $\\leq$ ($\\hat{p_1}$ - $\\hat{p_2}$) + $z_{\\alpha/2}$ . $\\sqrt{\\frac{\\hat{p_1}.(1-\\hat{p_1})}{n_1} + \\frac{\\hat{p_2}.(1-\\hat{p_2})}{n_2}}$)"
   ]
  },
  {
   "cell_type": "code",
   "execution_count": 13,
   "id": "668a9c05",
   "metadata": {
    "scrolled": false
   },
   "outputs": [
    {
     "name": "stdout",
     "output_type": "stream",
     "text": [
      "Tablo değeri: 1.959963984540054 \n",
      "Güven aralığı: -0.03868922061058231 , 0.010689220610582313\n"
     ]
    }
   ],
   "source": [
    "ornek_5 = norm_proportion_dif_confint(p1_hat = 0.095, p2_hat = 0.109, n1 = 3055, n2 = 744, a = 0.05)"
   ]
  },
  {
   "attachments": {
    "Ekran%20G%C3%B6r%C3%BCnt%C3%BCs%C3%BC%20%28288%29.png": {
     "image/png": "[encoded data removed]"
    }
   },
   "cell_type": "markdown",
   "id": "ba24c577",
   "metadata": {},
   "source": [
    "### Örnek 6\n",
    "Diyabet hastalarında uygulanan bir diyetin kilo vermede etkili olup\n",
    "olmadığı araştırılıyor Rastgele seçilen 16 diyabet hastasının diyet öncesi ve\n",
    "diyet sonrası kiloları kaydedilmiştir Kitle ortalaması için %95 güven aralığını\n",
    "hesaplayarak yorumlayınız\n",
    "\n",
    "![Ekran%20G%C3%B6r%C3%BCnt%C3%BCs%C3%BC%20%28288%29.png](attachment:Ekran%20G%C3%B6r%C3%BCnt%C3%BCs%C3%BC%20%28288%29.png)"
   ]
  },
  {
   "cell_type": "markdown",
   "id": "94c77e8b",
   "metadata": {},
   "source": [
    "### Çözüm\n",
    "Diyet öncesi = [78, 64, 68, 70, 72, 66, 64, 70, 68, 66, 72, 70, 66, 79, 68, 67]\n",
    "\n",
    "Diyet sonrası = [70, 62, 60, 64 ,70, 60, 62, 66, 65, 65, 65, 68, 66, 68, 62, 65]\n",
    "\n",
    "Yanılma olasılığı ($a$) = 0.05\n",
    "\n",
    "Örneklemlerdeki öğe sayıları ($n_1, n_2$) = 16\n",
    "\n",
    "Uygulanacak formül:\n",
    "\n",
    "P($\\bar{D}$ - $t_{\\alpha/2, n-1}$ . $\\frac{S_D}{\\sqrt{n}}$ $\\leq$ $\\mu_D$ $\\leq$ $\\bar{D}$ + $t_{\\alpha/2, n-1}$ . $\\frac{S_D}{\\sqrt{n}}$)"
   ]
  },
  {
   "cell_type": "code",
   "execution_count": 14,
   "id": "3281b64b",
   "metadata": {},
   "outputs": [
    {
     "name": "stdout",
     "output_type": "stream",
     "text": [
      "Tablo değeri: 2.131449545559323 \n",
      "Güven aralığı: 2.7667285375220336 , 5.983271462477966\n"
     ]
    }
   ],
   "source": [
    "lst_1 = [78, 64, 68, 70, 72, 66, 64, 70, 68, 66, 72, 70, 66, 79, 68, 67]\n",
    "lst_2 = [70, 62, 60, 64 ,70, 60, 62, 66, 65, 65, 65, 68, 66, 68, 62, 65]\n",
    "ornek_6 = related_pop_mean_dif_confint(lst1 = lst_1, lst2 = lst_2, a = 0.05)"
   ]
  },
  {
   "cell_type": "code",
   "execution_count": null,
   "id": "f2b7400d",
   "metadata": {},
   "outputs": [],
   "source": []
  },
  {
   "cell_type": "code",
   "execution_count": null,
   "id": "d66a1caa",
   "metadata": {},
   "outputs": [],
   "source": []
  }
 ],
 "metadata": {
  "kernelspec": {
   "display_name": "Python 3 (ipykernel)",
   "language": "python",
   "name": "python3"
  },
  "language_info": {
   "codemirror_mode": {
    "name": "ipython",
    "version": 3
   },
   "file_extension": ".py",
   "mimetype": "text/x-python",
   "name": "python",
   "nbconvert_exporter": "python",
   "pygments_lexer": "ipython3",
   "version": "3.9.13"
  }
 },
 "nbformat": 4,
 "nbformat_minor": 5
}
