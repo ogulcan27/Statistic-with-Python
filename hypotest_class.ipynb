{
 "cells": [
  {
   "cell_type": "code",
   "execution_count": 1,
   "id": "13ffd7de",
   "metadata": {},
   "outputs": [],
   "source": [
    "class Hypotest:\n",
    "    \n",
    "    \"\"\"\n",
    "    TR: Bu class tek örneklemli hipotez testlerini kitlenin; ortalaması, oranı ve varyansı için hesaplar\n",
    "    ENG: This class calculates one-sample hypothesis tests for the population mean, proportion, and variance\n",
    "    \"\"\"\n",
    "    \n",
    "    \n",
    "    \n",
    "    def pop_mean(self, xbar, mu, std, n, way, a):\n",
    "        \"\"\"\n",
    "        Kitle ortalaması için hipotez testi\n",
    "        xbar = örneklem ortalaması\n",
    "        mu = kitle ortalaması (test edilen parametre)\n",
    "        std = kitle ya da örneklem standar sapması\n",
    "        n = örneklemdeki öğe sayısı\n",
    "        a = yanılma olasılığı\n",
    "        \n",
    "        way = hipotezin yönü (-1 = sol yönlü, 1 = sağ yönlü, 2 = çift yönlü)\n",
    "        \"\"\"\n",
    "        import scipy.stats\n",
    "        import numpy as np\n",
    "        \n",
    "        #Normal dağılım\n",
    "        if n >= 30 and way == -1:\n",
    "            z_hesap = (xbar - mu) / (std/np.sqrt(n))\n",
    "            p_value = scipy.stats.norm.cdf(z_hesap)\n",
    "            print(\"Test istatistiği:\",z_hesap, \"\\nP Değeri:\", p_value, \"\\nYanılma olasılığı\",a)\n",
    "            #Karar\n",
    "            if a > p_value:\n",
    "                print(\"Hipotez reddedilir.\")\n",
    "            else:\n",
    "                print(\"Hipotez reddedilemez.\")\n",
    "                \n",
    "                \n",
    "        elif n >= 30 and way == 1:\n",
    "            z_hesap = (xbar - mu) / (std/np.sqrt(n))\n",
    "            p_value = 1 - scipy.stats.norm.cdf(z_hesap)\n",
    "            print(\"Test istatistiği:\",z_hesap, \"\\nP Değeri:\", p_value, \"\\nYanılma olasılığı\",a)\n",
    "            #Karar\n",
    "            if a > p_value:\n",
    "                print(\"Hipotez reddedilir.\")\n",
    "            else:\n",
    "                print(\"Hipotez reddedilemez.\")\n",
    "               \n",
    "            \n",
    "        elif n >= 30 and way == 2:\n",
    "            z_hesap = (xbar - mu) / (std/np.sqrt(n))\n",
    "            if z_hesap > 0:\n",
    "                p_value = 2*(1-scipy.stats.norm.cdf(z_hesap))\n",
    "            else:\n",
    "                p_value = 2*(scipy.stats.norm.cdf(z_hesap))\n",
    "            print(\"Test istatistiği:\",z_hesap, \"\\nP Değeri:\", p_value, \"\\nYanılma olasılığı\",a)\n",
    "            #Karar\n",
    "            if a > p_value:\n",
    "                print(\"Hipotez reddedilir.\")\n",
    "            else:\n",
    "                print(\"Hipotez reddedilemez.\")\n",
    "        \n",
    "        #T dağılımı\n",
    "        elif n < 30 and way == -1:\n",
    "            z_hesap = (xbar - mu) / (std/np.sqrt(n))\n",
    "            p_value = scipy.stats.t.cdf(z_hesap, df = n-1)\n",
    "            #Karar\n",
    "            print(\"Test istatistiği:\",z_hesap, \"\\nP Değeri:\", p_value, \"\\nYanılma olasılığı\",a)\n",
    "            if a > p_value:\n",
    "                print(\"Hipotez reddedilir.\")\n",
    "            else:\n",
    "                print(\"Hipotez reddedilemez.\")\n",
    "            \n",
    "            \n",
    "        elif n < 30 and way == 1:\n",
    "            z_hesap = (xbar - mu) / (std/np.sqrt(n))\n",
    "            p_value = 1 - scipy.stats.t.cdf(z_hesap, df = n-1)\n",
    "            print(\"Test istatistiği:\",z_hesap, \"\\nP Değeri:\", p_value, \"\\nYanılma olasılığı\",a)\n",
    "            #Karar\n",
    "            if a > p_value:\n",
    "                print(\"Hipotez reddedilir.\")\n",
    "            else:\n",
    "                print(\"Hipotez reddedilemez.\")\n",
    "                \n",
    "                \n",
    "        elif n < 30 and way == 2:\n",
    "            z_hesap = (xbar - mu) / (std/np.sqrt(n))\n",
    "            if z_hesap > 0:\n",
    "                p_value = 2*(1-scipy.stats.t.cdf(z_hesap, df = n-1))\n",
    "            else:\n",
    "                p_value = 2*(scipy.stats.t.cdf(z_hesap, df = n-1))\n",
    "            #Karar\n",
    "            print(\"Test istatistiği:\",z_hesap, \"\\nP Değeri:\", p_value, \"\\nYanılma olasılığı\",a)\n",
    "            if a > p_value:\n",
    "                print(\"Hipotez reddedilir.\")\n",
    "            else:\n",
    "                print(\"Hipotez reddedilemez.\")\n",
    "            \n",
    "            \n",
    "        else:\n",
    "            print(\"Girilen değerlerde hata var. Yeniden gözden geçirin.\")\n",
    "            \n",
    "            \n",
    "            \n",
    "    def pop_variance(self, s_square, sigma_square, n, a, way):\n",
    "        \"\"\"\n",
    "        Kitle varyansı için hipotez testi\n",
    "        s_square = örneklem varyansı\n",
    "        sigma_square = kitle varyansı (test edilen parametre)\n",
    "        n = örneklemdeki öğe sayısı\n",
    "        a = yanılma olasılığı\n",
    "            \n",
    "        way = hipotezin yönü (-1 = sol yönlü, 1 = sağ yönlü, 2 = çift yönlü)\n",
    "        \"\"\"\n",
    "        import scipy.stats\n",
    "        import numpy as np\n",
    "            \n",
    "        #Sol yönlü\n",
    "        if way == -1:\n",
    "            chi2_hesap = ((n-1)*s_square) / sigma_square\n",
    "            chi2_lower = scipy.stats.chi2.ppf(a, df = n-1)\n",
    "            #Karar\n",
    "            print(\"Test istatistiği:\",chi2_hesap, \"\\nAlt sınır:\",chi2_lower)\n",
    "            if chi2_hesap > chi2_lower:\n",
    "                print(\"H_0 hipotezi reddedilemez\")\n",
    "            else:\n",
    "                print(\"H_0 hipotezi reddedilir\")\n",
    "        \n",
    "        \n",
    "        #Sağ yönlü\n",
    "        elif way == 1:\n",
    "            chi2_hesap = ((n-1)*s_square) / sigma_square\n",
    "            chi2_upper = scipy.stats.chi2.ppf(1-a, df = n-1)\n",
    "            #Karar\n",
    "            print(\"Test istatistiği:\",chi2_hesap, \"\\nÜst sınır:\",chi2_upper)\n",
    "            if chi2_hesap < chi2_upper:\n",
    "                print(\"H_0 hipotezi reddedilemez\")\n",
    "            else:\n",
    "                print(\"H_0 hipotezi reddedilir\")\n",
    "        \n",
    "        \n",
    "        #Çift yönlü\n",
    "        elif way == 2:\n",
    "            chi2_hesap = ((n-1)*s_square) / sigma_square\n",
    "            chi2_upper = scipy.stats.chi2.ppf(1-(a/2), df = n-1)\n",
    "            chi2_lower = scipy.stats.chi2.ppf(a/2, df = n-1)\n",
    "            #Karar\n",
    "            print(\"Test istatistiği:\",chi2_hesap, \"\\nAlt sınır:\",chi2_lower, \"\\nÜst sınır:\",chi2_upper)\n",
    "            if chi2_hesap > chi2_lower and chi2_hesap < chi2_upper:\n",
    "                print(\"H_0 hipotezi reddedilemez\")\n",
    "            else:\n",
    "                print(\"H_0 hipotezi reddedilir\")\n",
    "    \n",
    "    \n",
    "    \n",
    "    def pop_propotion(self, p_hat, p, n, a, way):\n",
    "        \"\"\"\n",
    "        Kitle oranı için hipotez testi \n",
    "        p_hat = örneklem oranı\n",
    "        p = kitle oranı\n",
    "        n = örneklemdeki öğe sayısı\n",
    "        a = yanılma olasılığı\n",
    "        \n",
    "        way = hipotezin yönü (-1 = sol yönlü, 1 = sağ yönlü, 2 = çift yönlü)\n",
    "        \"\"\"\n",
    "        import scipy.stats\n",
    "        import numpy as np\n",
    "        \n",
    "        #Sol yönlü\n",
    "        if way == -1:\n",
    "            z_hesap = (p_hat - p) / (np.sqrt(p*(1-p)/n))\n",
    "            p_value = scipy.stats.norm.cdf(z_hesap)\n",
    "            #Karar\n",
    "            print(\"Test istatistiği:\",z_hesap, \"\\nP Değeri:\", p_value, \"\\nYanılma olasılığı\",a)\n",
    "            if a < p_value:\n",
    "                print(\"H_0 hipotezi reddedilemez\")\n",
    "            else:\n",
    "                print(\"H_0 hipotezi reddedilir\")\n",
    "        \n",
    "        \n",
    "        #Sağ yönlü\n",
    "        elif way == 1:\n",
    "            z_hesap = (p_hat - p) / (np.sqrt(p*(1-p)/n))\n",
    "            p_value = 1 - scipy.stats.norm.cdf(z_hesap)\n",
    "            #Karar\n",
    "            print(\"Test istatistiği:\",z_hesap, \"\\nP Değeri:\", p_value, \"\\nYanılma olasılığı\",a)\n",
    "            if a < p_value:\n",
    "                print(\"H_0 hipotezi reddedilemez\")\n",
    "            else:\n",
    "                print(\"H_0 hipotezi reddedilir\")\n",
    "        \n",
    "        \n",
    "        #Çift yönlü\n",
    "        elif way == 2:\n",
    "            z_hesap = (p_hat - p) / (np.sqrt(p*(1-p)/n))\n",
    "            if z_hesap > 0:\n",
    "                p_value = 2*(1-scipy.stats.norm.cdf(z_hesap))\n",
    "            else:\n",
    "                p_value = 2*(scipy.stats.norm.cdf(z_hesap))\n",
    "            #Karar\n",
    "            print(\"Test istatistiği:\",z_hesap, \"\\nP Değeri:\", p_value, \"\\nYanılma olasılığı\",a)\n",
    "            if a < p_value:\n",
    "                print(\"H_0 hipotezi reddedilemez\")\n",
    "            else:\n",
    "                print(\"H_0 hipotezi reddedilir\")"
   ]
  },
  {
   "cell_type": "code",
   "execution_count": 2,
   "id": "ed10956e",
   "metadata": {
    "scrolled": false
   },
   "outputs": [
    {
     "name": "stdout",
     "output_type": "stream",
     "text": [
      "Test istatistiği: 2.0 \n",
      "P Değeri: 0.02275013194817921 \n",
      "Yanılma olasılığı 0.05\n",
      "Hipotez reddedilir.\n"
     ]
    }
   ],
   "source": [
    "ornek_1 = Hypotest()\n",
    "ornek_1.pop_mean(xbar = 63, mu = 60, std = 12, n = 64, a = 0.05, way = 1)"
   ]
  },
  {
   "cell_type": "code",
   "execution_count": 3,
   "id": "0a843053",
   "metadata": {
    "scrolled": false
   },
   "outputs": [
    {
     "name": "stdout",
     "output_type": "stream",
     "text": [
      "Test istatistiği: -0.9797958971132709 \n",
      "P Değeri: 0.33738136682986763 \n",
      "Yanılma olasılığı 0.05\n",
      "Hipotez reddedilemez.\n"
     ]
    }
   ],
   "source": [
    "ornek_2 = Hypotest()\n",
    "ornek_2.pop_mean(xbar = 1.8, mu = 2, std = 1, n = 24, a = 0.05, way = 2)"
   ]
  },
  {
   "cell_type": "code",
   "execution_count": 4,
   "id": "525aef77",
   "metadata": {},
   "outputs": [
    {
     "name": "stdout",
     "output_type": "stream",
     "text": [
      "Test istatistiği: 2.2360679774997916 \n",
      "P Değeri: 0.01877027477426252 \n",
      "Yanılma olasılığı 0.05\n",
      "Hipotez reddedilir.\n"
     ]
    }
   ],
   "source": [
    "ornek_3 = Hypotest()\n",
    "ornek_3.pop_mean(xbar = 0.73, mu = 0.7, std = 0.06, n = 20, a = 0.05, way = 1)"
   ]
  },
  {
   "cell_type": "code",
   "execution_count": 5,
   "id": "2559474b",
   "metadata": {},
   "outputs": [
    {
     "name": "stdout",
     "output_type": "stream",
     "text": [
      "Test istatistiği: -1.9999999999999996 \n",
      "P Değeri: 0.022750131948179216 \n",
      "Yanılma olasılığı 0.04\n",
      "H_0 hipotezi reddedilir\n"
     ]
    }
   ],
   "source": [
    "ornek_4 = Hypotest()\n",
    "ornek_4.pop_propotion(p_hat = 0.45, p = 0.50, n = 400, a = 0.04, way = -1)"
   ]
  },
  {
   "cell_type": "code",
   "execution_count": 6,
   "id": "4c68ced3",
   "metadata": {},
   "outputs": [
    {
     "name": "stdout",
     "output_type": "stream",
     "text": [
      "Test istatistiği: 25.86111111111111 \n",
      "Alt sınır: 8.906516481987971 \n",
      "Üst sınır: 32.85232686172969\n",
      "H_0 hipotezi reddedilemez\n"
     ]
    }
   ],
   "source": [
    "ornek_5 = Hypotest()\n",
    "ornek_5.pop_variance(s_square = 196, sigma_square = 144, n = 20, a = 0.05, way = 2)"
   ]
  }
 ],
 "metadata": {
  "kernelspec": {
   "display_name": "Python 3 (ipykernel)",
   "language": "python",
   "name": "python3"
  },
  "language_info": {
   "codemirror_mode": {
    "name": "ipython",
    "version": 3
   },
   "file_extension": ".py",
   "mimetype": "text/x-python",
   "name": "python",
   "nbconvert_exporter": "python",
   "pygments_lexer": "ipython3",
   "version": "3.9.13"
  }
 },
 "nbformat": 4,
 "nbformat_minor": 5
}
